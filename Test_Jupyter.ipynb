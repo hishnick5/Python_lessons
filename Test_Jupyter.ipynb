{
 "cells": [
  {
   "cell_type": "markdown",
   "metadata": {},
   "source": [
    "Спиральная матрица\n"
   ]
  },
  {
   "cell_type": "code",
   "execution_count": null,
   "metadata": {},
   "outputs": [],
   "source": [
    "n, m = map(int, input().split())\n",
    "matrix = [[0] * m for _ in range(n)]\n",
    "dx, dy, x, y = 0, 1, 0, 0\n",
    "\n",
    "for i in range(1, n * m + 1):\n",
    "    matrix[x][y] = i\n",
    "    if matrix[(x + dx) % n][(y + dy) % m]:\n",
    "        dx, dy = dy, -dx\n",
    "    x += dx\n",
    "    y += dy    \n",
    "for line in matrix:\n",
    "    print(*(f'{i:<3}' for i in line), sep='')"
   ]
  },
  {
   "cell_type": "markdown",
   "metadata": {},
   "source": [
    "<div align=\"center\">\n",
    "<font size=\"3.5px\">\n",
    "<B>PYTHON-4.</B><BR>\n",
    "<B>Циклы. Задание 4.8</B><BR>\n",
    "<I>Напишите код, который определяет, является ли<BR>\n",
    "вложенный список test_matrix квадратной матрицей<BR>\n",
    "(то есть матрицей, у которой количество строк<BR>\n",
    "равно количеству столбцов).</I>\n",
    "</font>\n",
    "</div>"
   ]
  },
  {
   "cell_type": "code",
   "execution_count": 1,
   "metadata": {},
   "outputs": [
    {
     "name": "stdout",
     "output_type": "stream",
     "text": [
      "False\n"
     ]
    }
   ],
   "source": [
    "test_matrix = [\n",
    "    [1, 2, 3],\n",
    "    [7, -1, 2],\n",
    "    [123, 2, -1],\n",
    "    [123, 5, 1]\n",
    "]\n",
    "\n",
    "is_square = None\n",
    "if len(test_matrix) == len(test_matrix[0]):\n",
    "    is_square=True\n",
    "else:\n",
    "    is_square=False\n",
    "print(is_square)"
   ]
  },
  {
   "cell_type": "markdown",
   "metadata": {},
   "source": [
    "# PYTHON-4. Циклы. ЗАДАНИЕ 5.3 \n",
    "информация о динамике пользователей user_dynamics\n",
    "Ваша задача — переписать код так, чтобы он\n",
    "работал с помощью функции enumerate(). Таким образом,\n",
    "вам необходимо создать цикл по индексам и\n",
    "элементам списка user_dynamics"
   ]
  },
  {
   "cell_type": "code",
   "execution_count": null,
   "metadata": {},
   "outputs": [],
   "source": [
    "user_dynamics = [-5, 2, 4, 8, 12, -7, 5] \n",
    "for i, value in enumerate(user_dynamics):\n",
    "    if value < 0:\n",
    "        print(f'Day {i+1} : {value}')"
   ]
  },
  {
   "cell_type": "markdown",
   "metadata": {},
   "source": [
    "PYTHON 4. Циклы. Задание 5.4\n",
    "Дан список, состоящий из строк. Список хранится в переменной str_list.\n",
    "Создайте новый список cut_str_list.\n",
    "В цикле добавляйте в список cut_str_list списки, состоящие из порядкового\n",
    "номера строки из списка str_list (номер в рамках данной задачи начинается с 0)\n",
    "и трёх первых символов из каждой строки. Если длина строки меньше трёх символов,\n",
    "то добавляется вся строка целиком."
   ]
  },
  {
   "cell_type": "code",
   "execution_count": null,
   "metadata": {},
   "outputs": [],
   "source": [
    "str_list = ['Hello', 'my', 'name', 'is', 'Ezeikel', 'I', 'like', 'knitting']\n",
    "cut_str_list = []\n",
    "for number, value in enumerate(str_list):\n",
    "    cut_str_list.append([number, value[0:3]])\n",
    "print(cut_str_list)"
   ]
  },
  {
   "cell_type": "markdown",
   "metadata": {},
   "source": [
    "PYTHON-4. Циклы. Задание 5.10\n",
    "Дан словарь mixture_dict. Значения в нём могут быть трёх типов: \n",
    "строки (str) или числа (int и float).\n",
    "Посчитайте, сколько значений в словаре mixture_dict являются числами.\n",
    "Результат занесите в переменную count_numbers.\n",
    "Используйте в своём коде оператор continue."
   ]
  },
  {
   "cell_type": "code",
   "execution_count": null,
   "metadata": {},
   "outputs": [],
   "source": [
    "mixture_dict = {'key1': 24, 'key2': '1.4', 'key3': 14, 'key4': 16.24, 'key6': 124.2414, 'key7': 12.2}\n",
    "count_numbers = 0\n",
    "for i in mixture_dict:\n",
    "    if type(mixture_dict[i]) is str:\n",
    "        continue\n",
    "    else:\n",
    "        count_numbers += 1\n",
    "print(count_numbers)"
   ]
  },
  {
   "cell_type": "markdown",
   "metadata": {},
   "source": [
    "PYTHON-4. Циклы. Задание 5.11\n",
    "Дана переменная text, в которой содержится текст. \n",
    "В этом тексте могут присутствовать знаки препинания:\n",
    "точки ('.'), запятые(','), точки с запятой (';'), \n",
    "вопросительные ('?') и восклицательные знаки ('!'), а также тире ('—').\n",
    "count_punctuation, ключами которого являются знаки препинания,\n",
    "а значениями — их количество в тексте.\n",
    "если какого-то из шести указанных знаков препинания нет в тексте,\n",
    "то в итоговом словаре значение, \n",
    "соответствующее этому знаку препинания,должно быть равно 0"
   ]
  },
  {
   "cell_type": "markdown",
   "metadata": {},
   "source": [
    "Иной раз казалось ему, что он уже с месяц лежит; \n",
    "в другой раз — что всё тот же день идет. Но об том — об том \n",
    "он совершенно забыл; зато ежеминутно помнил, что об чем-то забыл, \n",
    "чего нельзя забывать, — терзался, мучился, припоминая, стонал, \n",
    "впадал в бешенство или в ужасный, невыносимый страх. \n",
    "Тогда он порывался с места, хотел бежать, но всегда кто-нибудь \n",
    "его останавливал силой, и он опять впадал в бессилие и беспамятство. \n",
    "Наконец он совсем пришел в себя!"
   ]
  },
  {
   "cell_type": "code",
   "execution_count": null,
   "metadata": {},
   "outputs": [],
   "source": [
    "count_punctuation = {'!': 0, ',': 0, '-': 0, '.': 0, ';': 0, '?': 0}\n",
    "symbol_list = ['.', ',', ';', '?', '!', '-']\n",
    "text = text.lower()\n",
    "text = text.replace(' ', '')\n",
    "text = text.replace('\\n', '')\n",
    "for symbol in text:\n",
    "    if symbol in symbol_list:\n",
    "        count_punctuation[symbol] += 1\n",
    "print(count_punctuation)"
   ]
  },
  {
   "cell_type": "markdown",
   "metadata": {},
   "source": [
    "PYTHON-4. Циклы. Задание 5.13\n",
    "Напишите программу для подсчёта количества вхождений заданного символа\n",
    "в каждую из строк этого списка. Искомый символ хранится\n",
    "в переменной symbol_to_check.\n",
    "Для подсчёта используйте словарь: в качестве ключа запишите в него\n",
    "строку, в качестве значения — число вхождений искомого символа в эту\n",
    "строку. Для хранения словаря используйте переменную с именем word_dict."
   ]
  },
  {
   "cell_type": "code",
   "execution_count": null,
   "metadata": {},
   "outputs": [],
   "source": [
    "str_list = [\"text\", \"morning\", \"notepad\", \"television\", \"ornament\"]\n",
    "symbol_to_check = 't'\n",
    "word_dict = {}\n",
    "for word in str_list:\n",
    "    word_dict[word] = 0\n",
    "    if symbol_to_check in word:\n",
    "        for symbol in word:\n",
    "            if symbol == symbol_to_check:\n",
    "                word_dict[word] += 1\n",
    "print(word_dict)"
   ]
  },
  {
   "cell_type": "code",
   "execution_count": null,
   "metadata": {},
   "outputs": [],
   "source": [
    "description = 'Male, 39 years old, born on November 27, 1979'\n",
    "description_split = description.split(',')\n",
    "gender = description_split[0].lower()\n",
    "age = description_split[1].split()[0]\n",
    "data = description_split[2].split()[3]\n",
    "year = description_split[3]\n",
    "full_data = f'Пол: {gender}, возраст: {age}, день рождения: {data}, год рождения: {year}'\n",
    "print(full_data)"
   ]
  },
  {
   "cell_type": "code",
   "execution_count": null,
   "metadata": {},
   "outputs": [],
   "source": [
    "a = list(range(1, 11))\n",
    "# получаем 4 последних элемента списка\n",
    "b = a[-4:]\n",
    "print(b)"
   ]
  },
  {
   "cell_type": "code",
   "execution_count": null,
   "metadata": {},
   "outputs": [],
   "source": [
    "# способы создания словарей\n",
    "# с помощью 'dict' используя список кортежей состоящих из пары значений\n",
    "ddd = dict([(1, 1), (2, 4)])\n",
    "# с помощью 'dict' используя ключ без кавычек, равно значение в кавычках\n",
    "dd = dict(short='dict', long='dictionary')\n",
    "# с помощью 'dict.fromkeys' передавая списком несколько\n",
    "#  ключей с одинаковым значением или без него если надо без \", 100\"\n",
    "d = dict.fromkeys(['Katya', 'Lena'], 100)\n",
    "# с помощью генераторов словарей, которые очень похожи на генераторы списков\n",
    "dddd = {a: a ** 2 for a in range(7)}\n",
    "dictionary = {(1, 2.0): 'кортежи могут быть ключами',\n",
    "              1: 'целые числа могут быть ключами',\n",
    "              'бежать': 'строки тоже',\n",
    "              ['носок', 1, 2.0]: 'а списки не могут'}"
   ]
  },
  {
   "cell_type": "markdown",
   "metadata": {},
   "source": [
    "Метод get() возвращает значение по указанному ключу в параметрах. \n",
    "Название ключа всегда должно быть уникальным. В случае обращения по несуществующему ключу,\n",
    "Python вернет значение None. С помощью метода get(), можно проверять, есть ли такой ключ\n",
    "в словаре. И если есть, то мы получим значение по ключу."
   ]
  },
  {
   "cell_type": "code",
   "execution_count": null,
   "metadata": {},
   "outputs": [],
   "source": [
    "first_count = {\n",
    "    14: 'четырнадцать',\n",
    "    15: 'пятнадцать',\n",
    "    16: 'шестнадцать'\n",
    "}\n",
    "print(first_count.get(15))\n",
    "# пятнадцать // выведет на экран"
   ]
  },
  {
   "cell_type": "markdown",
   "metadata": {},
   "source": [
    "### функция для сортировки словаря по значениям ключа"
   ]
  },
  {
   "cell_type": "code",
   "execution_count": null,
   "metadata": {},
   "outputs": [],
   "source": [
    "def best_student(**name):\n",
    "    # создаем переменную в которую будем заносить \n",
    "    # отсортированный по возрастанию список значений ключей словаря\n",
    "    result = sorted(name, key=name.get)\n",
    "    # и возвращаем первый (минимальный) элемент из списка\n",
    "    return result[0]"
   ]
  },
  {
   "cell_type": "markdown",
   "metadata": {},
   "source": [
    "<B>PYTHON-5.2.</B><BR>\n",
    "Продвинутое использование функций в Python<br>\n",
    "3/10<br>\n",
    "3. Изменение переменных вне области видимости<br>\n",
    "Внешняя функция для вычисления итоговой стоимости<br>"
   ]
  },
  {
   "cell_type": "code",
   "execution_count": null,
   "metadata": {},
   "outputs": [],
   "source": [
    "def calculate_cost(cost, sale):\n",
    "    # Внутренняя функция для предобработки аргумента sale\n",
    "    def preprocessing_sale():\n",
    "        # Объявляем, что используем нелокальную переменную sale\n",
    "        nonlocal sale\n",
    "        # Если sale — строка\n",
    "        if type(sale) is str:\n",
    "            # Удаляем из строки '%', приводим к float и делим на 100\n",
    "            sale = float(sale.replace('%', '')) / 100\n",
    "        # Если sale — целое число\n",
    "        elif type(sale) is int:\n",
    "            # Делим его на 100 \n",
    "            sale = sale / 100\n",
    "    # Запускаем предобработку, прежде чем вычислить стоимость\n",
    "    preprocessing_sale()\n",
    "    # Считаем итоговую стоимость и возвращаем её\n",
    "    # (стоимость — стоимость * скидка)     \n",
    "    return cost - cost * sale\n",
    "print(calculate_cost(1330, '15%'))\n",
    "print(calculate_cost(1330, 15))\n",
    "print(calculate_cost(1330, 0.15))"
   ]
  },
  {
   "cell_type": "markdown",
   "metadata": {},
   "source": [
    "Посмотреть список встроенных имён можно с помощью следующей команды.<br>\n",
    "(обратите внимание на два символа нижнего подчёркивания справа и слева<br>\n",
    "от ключевого слова builtins):<br>\n",
    "<p>print(dir(__builtins__))</p>"
   ]
  },
  {
   "cell_type": "markdown",
   "metadata": {},
   "source": [
    "PYTHON-5.2. Продвинутое использование функций в Python<br>\n",
    "3/10  3. Изменение переменных вне области видимости<br>\n",
    "Задание 3.7 (External resource)<br>"
   ]
  },
  {
   "cell_type": "code",
   "execution_count": null,
   "metadata": {},
   "outputs": [],
   "source": [
    "advertising_campaigns = {'ютуб': [212, 248], 'вк': [514, 342], 'радио': [339, 125]}\n",
    "# Очень крутой код для вычисления максимума из нескольких значений у ключа из словаря\n",
    "# Создаём новый пустой словарь  \n",
    "advertising_campaigns_max = {}  \n",
    "# Создаём цикл по ключам исходного словаря  \n",
    "for key in advertising_campaigns:  \n",
    "    # Вычисляем максимум в списке, лежащем по ключу key  \n",
    "    max_efect = max(advertising_campaigns[key])  \n",
    "    # Добавляем максимум в новый словарь  \n",
    "    advertising_campaigns_max[key] = max_efect\n",
    "print(advertising_campaigns_max)"
   ]
  },
  {
   "cell_type": "code",
   "execution_count": null,
   "metadata": {},
   "outputs": [],
   "source": [
    "dictionary = {'марафон': 'гонка бегунов длиной около 26 миль',\n",
    "                'персона': 'человек',\n",
    "                'бежал': 'бежать в прошедшем времени',\n",
    "                'бежать': 'двигаться со скоростью',\n",
    "                'туфля': 'род обуви, закрывающей ногу не выше щиколотки',\n",
    "                'туфли': 'туфля во множественном числе'}\n",
    "# В примере кода ниже цикл for использует метод items() для\n",
    "# получения пары «ключ — значение» на каждую итерацию.\n",
    "for key, value in dictionary.items():\n",
    "    print(key, '-', value)"
   ]
  },
  {
   "cell_type": "code",
   "execution_count": null,
   "metadata": {},
   "outputs": [],
   "source": [
    "# Метод setdefault() в Python является встроенным методом словаря и используется\n",
    "# для возврата значения ключа, если он уже существует в словаре. Если ключ не существует, \n",
    "# метод устанавливает значение по умолчанию и возвращает его.\n",
    "# dictionary.setdefault(keyname, value)\n",
    "# Здесь keyname — это ключ, который мы ищем в словаре, а value — это значение, которое \n",
    "# будет установлено по умолчанию, если ключ не найден в словаре. Аргумент value является необязательным.\n",
    "# Если он не указан, значение по умолчанию будет None.\n",
    "friends = {\"Kolya\": 180, \"Marina\": 176, \"Dima\": 201, \"Yana\": 183, \"Nina\": 156, \"Stas\":183, \"Nastya\": 163}\n",
    "friends.setdefault(\"Nastya\", 100)\n",
    "friends.setdefault(\"Alyona\", 170)\n",
    "friends.setdefault(\"Nelly\")\n",
    "# В следующем примере мы создаем словарь, где ключи — это первые буквы слов,\n",
    "# а значения — это списки слов, начинающиеся с соответствующей буквы.\n",
    "words = [\"apple\", \"banana\", \"cherry\", \"date\", \"elderberry\", \"fig\", \"grape\", \"kiwi\"]\n",
    "d = {}\n",
    "for slovo in words:\n",
    "    key = slovo[0]\n",
    "    d.setdefault(key, []).append(slovo)\n",
    "#print(d)\n",
    "# Метод setdefault() также может быть полезен для подсчета элементов в списке. \n",
    "# В следующем примере мы подсчитываем, сколько раз каждое слово появляется в списке.\n",
    "spisok_slov = [\"apple\", \"banana\", \"apple\", \"cherry\", \"banana\", \"banana\"]\n",
    "noviy_slovar = {}\n",
    "for slovo in spisok_slov:\n",
    "    noviy_slovar.setdefault(slovo, 0)\n",
    "    noviy_slovar[slovo] += 1\n",
    "print(noviy_slovar)"
   ]
  },
  {
   "cell_type": "markdown",
   "metadata": {},
   "source": [
    "### Методы множеств"
   ]
  },
  {
   "cell_type": "code",
   "execution_count": null,
   "metadata": {},
   "outputs": [],
   "source": [
    "s1 = set('hello')\n",
    "s2 = set(['w', 'o', 'w'])\n",
    "result1 = s1.union(s2) # Объединение\n",
    "result2 = s1.intersection(s2) # Пересечение\n",
    "result3 = s1.difference(s2) # Вычитание из 1-го, элементы 2-го\n",
    "print(result1, result2, result3, sep=' and ')"
   ]
  },
  {
   "cell_type": "code",
   "execution_count": null,
   "metadata": {},
   "outputs": [],
   "source": [
    "# Проверка високосного года\n",
    "year = 1900\n",
    "year_is_leap = (year % 400 == 0) or (year % 4 == 0 and year % 100 != 0)\n",
    "print(year_is_leap)"
   ]
  },
  {
   "cell_type": "code",
   "execution_count": null,
   "metadata": {},
   "outputs": [],
   "source": [
    "# Отломить дольку от шоколадки\n",
    "n, m, k = 15, 16, 45\n",
    "result = (k % n == 0 or k % m == 0) and (k <= n * m)\n",
    "print(result)"
   ]
  },
  {
   "cell_type": "markdown",
   "metadata": {},
   "source": [
    "<b>PYTHON-3.</b><br>\n",
    "Условные операторы.<br>\n",
    "Задание 3.7<br>"
   ]
  },
  {
   "cell_type": "markdown",
   "metadata": {},
   "source": [
    "С помощью метода словарей get() и проверки на None реализуйте условие,  которое проверяет,<br>\n",
    "есть ли в истории прихода накладная с указанным в переменной invoice_number номером.<br>\n",
    "Результатом работы условия должна стать булева переменная со значением 'True' или 'False'<br>"
   ]
  },
  {
   "cell_type": "code",
   "execution_count": null,
   "metadata": {},
   "outputs": [],
   "source": [
    "arrival_of_goods = {\n",
    "    '148902': {\n",
    "        'Футболка с принтом': 180,\n",
    "        'Свитшот черный': 245,\n",
    "        'Джинсы серые': 252\n",
    "    },\n",
    "    '893516': {\n",
    "        'Футболка с принтом': 43,\n",
    "        'Свитшот черный': 64,\n",
    "        'Джинсы черные': 102\n",
    "    },\n",
    "    '893481': {\n",
    "        'Кружка керамическая': 35,\n",
    "        'Свитшот черный': 10,\n",
    "        'Джинсы сервые': 14\n",
    "    }\n",
    "}\n",
    "\n",
    "invoice_number = '148902'\n",
    "invoice_exists = arrival_of_goods.get(invoice_number) is not None\n",
    "print(invoice_exists)"
   ]
  },
  {
   "cell_type": "markdown",
   "metadata": {},
   "source": [
    "<b>PYTHON-3.</b><br>\n",
    "<b>Условные операторы.</b><br>\n",
    "<b>тернарные операторы</b><br>"
   ]
  },
  {
   "cell_type": "code",
   "execution_count": null,
   "metadata": {},
   "outputs": [],
   "source": [
    "# сравнение двух чисел и получения большего из них:\n",
    "a = 42\n",
    "b = 41\n",
    "result = a if a > b else b\n",
    "print(result)"
   ]
  },
  {
   "cell_type": "markdown",
   "metadata": {},
   "source": [
    "<b>PYTHON-3.</b><br>\n",
    "<b>Условные операторы.</b><br>\n",
    "<b>Задание 5.5</b><br>"
   ]
  },
  {
   "cell_type": "code",
   "execution_count": null,
   "metadata": {},
   "outputs": [],
   "source": [
    "player_1 = 'бумага'\n",
    "player_2 = 'ножницы'\n",
    "wind_list = ['камень', 'ножницы', 'бумага']\n",
    "if player_1 == player_2:\n",
    "    print('Ничья!')\n",
    "elif player_1 in wind_list[0] and player_2 in wind_list[1]:\n",
    "    print('Первый игрок — победитель!')\n",
    "elif player_1 in wind_list[1] and player_2 in wind_list[0]:\n",
    "    print('Второй игрок — победитель!')\n",
    "elif player_1 in wind_list[0] and player_2 in wind_list[2]:\n",
    "    print('Второй игрок — победитель!')\n",
    "elif player_1 in wind_list[2] and player_2 in wind_list[0]:\n",
    "    print('Первый игрок — победитель!')\n",
    "elif player_1 in wind_list[1] and player_2 in wind_list[2]:\n",
    "    print('Первый игрок — победитель!')\n",
    "elif player_1 in wind_list[2] and player_2 in wind_list[1]:\n",
    "    print('Второй игрок — победитель!')\n",
    "else:\n",
    "    print('Вы ввели неверные данные ((')"
   ]
  },
  {
   "cell_type": "markdown",
   "metadata": {},
   "source": [
    "<b>PYTHON-3.</b><br>\n",
    "<b>Условные операторы.</b>"
   ]
  },
  {
   "cell_type": "code",
   "execution_count": null,
   "metadata": {},
   "outputs": [],
   "source": [
    "dish_time_dict = {\n",
    "    'Рамен с говядиной': 15,\n",
    "    'Суши': 18,\n",
    "    'Лагман с курицей': 20,\n",
    "    'Лагман с говядиной': 24,\n",
    "    'Плов с курицей': 28\n",
    "    }\n",
    "street_time_dict  = {\n",
    "    'Дзержинский': 39,\n",
    "    'Солнечный': 40,\n",
    "    'Заводской': 27,\n",
    "    'Гагаринский': 43,\n",
    "    'Кировский': 37,\n",
    "    'Октябрьский': 34\n",
    "    }\n",
    "dish, street = 'Плов с курицей', 'Гагаринский'\n",
    "if street not in street_time_dict:\n",
    "    # Неизвестный район\n",
    "    print('Извините, Доставка в ваш район недоступна')\n",
    "elif dish not in dish_time_dict:\n",
    "    # Неизвестное блюдо\n",
    "    print('Извините, Блюдо недоступно, закажите что-то другое')\n",
    "else:\n",
    "    dish_time = dish_time_dict[dish] # время приготовления блюда\n",
    "    street_time = street_time_dict[street] # время доставки\n",
    "    full_time = dish_time + street_time # общее время доставки\n",
    "    delay = full_time - 60 # время задержки\n",
    "    if delay <=0:\n",
    "        # Если задержка не положительна\n",
    "        print('Доставка будет осуществелена вовремя')\n",
    "    else: # Иначе \n",
    "        print(f'Курьер задержится на {delay} минут')"
   ]
  },
  {
   "cell_type": "markdown",
   "metadata": {},
   "source": [
    "<b>PYTHON-3.</b><br>\n",
    "Условные операторы. "
   ]
  },
  {
   "cell_type": "markdown",
   "metadata": {},
   "source": [
    "<p><i>\n",
    "ЗАДАЧА №6<br>\n",
    "написать программу на Python, которая будет проверять ваш пароль на надёжность.\n",
    "Длина – 8 символов (если меньше – то проще взломать, а если длиннее – то сложно запомнить).\n",
    "Пароль не должен состоять только из цифр.\n",
    "Пароль не должен состоять только из букв.\n",
    "В пароле должны быть заглавные буквы.\n",
    "В пароле должны быть строчные символы.\n",
    "В пароле должен быть хотя бы один из специальных символов ('*', '-', '#'), \n",
    "но каждый из символов должен входить в пароль не более 1 раза.\n",
    "Вот список «плохих» символов: '!', '@', '$', '%', '^', '`', '&', '(', ')', '+', '=', '_', '~'.\n",
    "В случае надёжного пароля программа должна выводить фразу «Пароль идеален!», \n",
    "а в остальных случаях будут перечислены все ошибки, которые вы допустили.</i></p>"
   ]
  },
  {
   "cell_type": "code",
   "execution_count": null,
   "metadata": {},
   "outputs": [],
   "source": [
    "errors_dict = {\n",
    "    'length': 'Длина пароля не равна 8 символам',\n",
    "    'digits': 'Пароль состоит только из цифр',\n",
    "    'letters': 'Пароль состоит только из букв',\n",
    "    'upper': 'Отсутствуют заглавные буквы',\n",
    "    'lower': 'Отсутствуют строчные буквы',\n",
    "    'spec': 'Отсутствуют спецсимволы в пароле',\n",
    "    'bad_symbols': 'В пароле использованы непредусмотренные символы'\n",
    "}\n",
    "bad_symbols = ['!', '@', '$', '%', '^', '`', '&', '(', ')', '+', '=', '_', '~']\n",
    "password = 'Aafaf*al'\n",
    "if len(password) == 8:\n",
    "    errors_dict.pop('length')\n",
    "if not password.isdigit():\n",
    "    errors_dict.pop('digits')\n",
    "if not password.isalpha():\n",
    "    errors_dict.pop('letters')\n",
    "if password.upper() != password:\n",
    "    errors_dict.pop('lower')\n",
    "if password.lower() != password:\n",
    "    errors_dict.pop('upper')\n",
    "if '*' in password or '-' in password or '#' in password:\n",
    "    errors_dict.pop('spec')\n",
    "    if password.count('*') > 1 or password.count('-') > 1 or password.count('#') > 1:\n",
    "        errors_dict['spec_count'] = 'Какой-то из спецсимволов в пароле использован более одного раза'\n",
    "if len(set(password).intersection(set(bad_symbols))) == 0:\n",
    "    errors_dict.pop('bad_symbols')\n",
    "if len(errors_dict) > 0:\n",
    "    print(list(errors_dict.values()))\n",
    "else:\n",
    "    print('Пароль идеален!')"
   ]
  },
  {
   "cell_type": "markdown",
   "metadata": {},
   "source": [
    "PYTHON-3.<br>\n",
    "Условные операторы.<br>"
   ]
  },
  {
   "cell_type": "markdown",
   "metadata": {},
   "source": [
    "<p>\n",
    "Задание 5.6<br>\n",
    "<i>\n",
    "Обдумывая акцию для распродажи, владелец компании пришёл к выводу,\n",
    "что продавать все кроссовки по акции на сайте компании невыгодно. \n",
    "Поэтому была придумана новая схема: если клиент покупает одновременно кроссовки двух разных брендов,\n",
    "то его общая скидка составит 5 %, если две пары от одного бренда — то 10 %.\n",
    "Для упрощения задачи будем считать, что покупатель в любом случае купит не более двух пар кроссовок.\n",
    "Список товаров в корзине хранится в переменной purchases и может быть пустым.\n",
    "Также будем считать, что для всех товаров бренда действует одна и та же цена. \n",
    "Расценки товаров хранятся в словаре prices:</i>\n",
    "</p>"
   ]
  },
  {
   "cell_type": "code",
   "execution_count": null,
   "metadata": {},
   "outputs": [],
   "source": [
    "purchases = [\"Nike\", \"Nike\"]\n",
    "prices = {'Adidas': 4298, 'Nike': 6550, 'Puma': 4490, 'Asics': 3879}\n",
    "if not purchases:\n",
    "    print('Ваша корзина пуста')\n",
    "elif len(set(purchases)) == 1:\n",
    "    purchases_sum = prices.get(purchases[0]) + prices.get(purchases[1])\n",
    "    discount = purchases_sum - (purchases_sum * 0.1)\n",
    "    print(f'Стоимость заказа составила: {purchases_sum}. С учетом скидки в 10% — {discount}')\n",
    "else:\n",
    "    purchases_sum = prices.get(purchases[0]) + prices.get(purchases[1])\n",
    "    discount = purchases_sum - (purchases_sum * 0.05)\n",
    "    print(f'Стоимость заказа составила: {purchases_sum}. С учетом скидки в 5% — {discount}')"
   ]
  }
 ],
 "metadata": {
  "kernelspec": {
   "display_name": "Python 3",
   "language": "python",
   "name": "python3"
  },
  "language_info": {
   "codemirror_mode": {
    "name": "ipython",
    "version": 3
   },
   "file_extension": ".py",
   "mimetype": "text/x-python",
   "name": "python",
   "nbconvert_exporter": "python",
   "pygments_lexer": "ipython3",
   "version": "3.11.0"
  }
 },
 "nbformat": 4,
 "nbformat_minor": 2
}
